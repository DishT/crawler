{
 "cells": [
  {
   "cell_type": "code",
   "execution_count": 14,
   "metadata": {},
   "outputs": [
    {
     "name": "stdout",
     "output_type": "stream",
     "text": [
      "['父母離異、高二休學入演藝圈扛家計...出道17年再入圍金鐘！楊丞琳談《荼蘼》的幸福哲學\\xa0', '再度入圍金鐘影帝》做過焊接工、酒保、剛入行沒戲接...吳慷仁：當演員很痛苦，但我沒有半途而廢\\xa0', '世大運幕後》日籍總教練，為台灣女足「賠上婚姻」...長年在台教球，回家只見到離婚律師\\xa0', '最會賣車父子檔\\u30002人扛起270億業績\\xa0', '專家說「生涯規劃和經營個人品牌」很重要...臉書營運長：照我的生涯規劃根本不會進臉書工作\\xa0', '「不要執著年齡數字，年輕是一種心態！」舒淇給女人的8個美麗箴言\\xa0', '靠彈珠汽水起家！百年企業黑松張家，神秘祖墳藏在長庚高爾夫球場裡\\xa0', '金正恩欽點\\u3000台灣淡水龍蝦王勇闖北韓\\xa0', '接夏普一年，連續4季賺錢》郭台銘愛將，戴正吳的告白：剛赴任時，不知何時可以回來\\xa0', '世大運宣傳給力，柯文哲扭轉爛民調！20歲網紅和50歲大伯，柯P為何完勝一票政客？\\xa0']\n"
     ]
    }
   ],
   "source": [
    "import requests\n",
    "from bs4 import BeautifulSoup\n",
    "\n",
    "re = requests.get('http://www.businessweekly.com.tw/channel.aspx?id=0000000187&p=1')\n",
    "#print (re.status_code)\n",
    "#print (re.text)\n",
    "#\n",
    "soup = BeautifulSoup(re.text, 'html.parser')\n",
    "\n",
    "#print(soup.title)\n",
    "#print(soup.title.string)\n",
    "line = soup.findAll(\"h1\")\n",
    "line = [word.get_text() for word in line]\n",
    "print(line)"
   ]
  },
  {
   "cell_type": "code",
   "execution_count": 24,
   "metadata": {},
   "outputs": [],
   "source": [
    "import requests\n",
    "from bs4 import BeautifulSoup\n",
    "file = open(\"商周.txt\",\"w\")\n",
    "try:\n",
    "    for i in range(1,100):\n",
    "        re = requests.get('http://www.businessweekly.com.tw/channel.aspx?id=0000000187&p={}'.format(i))\n",
    "\n",
    "        soup = BeautifulSoup(re.text, 'html.parser')\n",
    "        line = soup.findAll(\"h1\")\n",
    "        line = [word.get_text() for word in line]\n",
    "        #print(line)\n",
    "        file.write(\"第{}頁\".format(i)+\"\\n\")\n",
    "        for word in range (len(line)):\n",
    "            #print(line[word])\n",
    "            file.write(\"{}. \".format(word)+ line[word] + \"\\n\")\n",
    "except:\n",
    "    file.close()"
   ]
  },
  {
   "cell_type": "code",
   "execution_count": 22,
   "metadata": {},
   "outputs": [
    {
     "data": {
      "text/plain": [
       "list"
      ]
     },
     "execution_count": 22,
     "metadata": {},
     "output_type": "execute_result"
    }
   ],
   "source": [
    "type(line)"
   ]
  },
  {
   "cell_type": "code",
   "execution_count": 23,
   "metadata": {},
   "outputs": [
    {
     "data": {
      "text/plain": [
       "['從蓋停車章櫃姐變微風女郎...「昆凌接班人」23歲宋蘋恩：我不是千金，到現在還跟阿嬤一起睡\\xa0',\n",
       " '哈佛畢業後，我兩次砸毀人生，終於在啤酒中找到自己...體會到：大部分的風險，不是風險\\xa0',\n",
       " '總經理自己扛防颱沙包、搬桌椅、留貼心紙條，這就是迪士尼「超越賓客期待」的頂級服務\\xa0',\n",
       " '英文鴨蛋驗貨員\\u3000變歐美電視購物大亨\\xa0',\n",
       " '好心捐獸首，卻被移除》「我對台灣情感太深了...」成龍首次親口回應故宮南院事件，低聲吐出2個字\\xa0',\n",
       " '內湖店全球第二賺、全台250萬會員！老外都來學，台灣如何成為全球Costco最強招募團隊\\xa0',\n",
       " '1位木匠×5個熱血空姐\\u3000救起一群後山孩子\\xa0',\n",
       " '我是個連高一都沒念完的人...誠品書店設計師，回憶吳清友：他讓我知道，自己還算經得起鍛練\\xa0',\n",
       " '18歲就立志當諧星！渡邊直美：枯燥生活裡，我想成為每個人開心笑出來的原因\\xa0',\n",
       " '丟掉70年老經驗\\u3000高絲反而多賺2.4倍\\xa0']"
      ]
     },
     "execution_count": 23,
     "metadata": {},
     "output_type": "execute_result"
    }
   ],
   "source": [
    "line"
   ]
  },
  {
   "cell_type": "code",
   "execution_count": null,
   "metadata": {
    "collapsed": true
   },
   "outputs": [],
   "source": []
  }
 ],
 "metadata": {
  "kernelspec": {
   "display_name": "Python 3",
   "language": "python",
   "name": "python3"
  },
  "language_info": {
   "codemirror_mode": {
    "name": "ipython",
    "version": 3
   },
   "file_extension": ".py",
   "mimetype": "text/x-python",
   "name": "python",
   "nbconvert_exporter": "python",
   "pygments_lexer": "ipython3",
   "version": "3.5.2"
  }
 },
 "nbformat": 4,
 "nbformat_minor": 2
}
